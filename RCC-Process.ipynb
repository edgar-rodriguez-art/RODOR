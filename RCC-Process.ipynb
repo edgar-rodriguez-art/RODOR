{
 "cells": [
  {
   "cell_type": "code",
   "execution_count": 1,
   "id": "14b6ded0",
   "metadata": {},
   "outputs": [],
   "source": [
    "# RODOR algorithm for coin counting, procesor\n",
    "# Based on paper RODOR algorithm for the identification of irregular surfaces with circular \n",
    "# contours applied to the recognition and counting of coins\n",
    "# Paper and code by Msc Evelyn Orellana and Msc Edgar Rodriguez. 2023\n",
    "# Paper on https://www.revistatoolbar.com/\n",
    "# Email :    eorellana@revistatoolbar.com,     erodriguez@revistatoolbar.com\n",
    "#\n",
    "# This project is licensed under the terms of the MIT License\n",
    "\n",
    "from RCC_Modules import *"
   ]
  },
  {
   "cell_type": "code",
   "execution_count": 2,
   "id": "d9795b2b",
   "metadata": {},
   "outputs": [],
   "source": [
    "def RCCprocess(DataFile, ImageFile, ObjCoinImages):\n",
    "    print('Begin process segmentation for coin counting ', time.strftime(\"%d/%m/%y %H:%M:%S\") )\n",
    "    vCurrency = pd.read_csv( OutputDir + DataFile )\n",
    "    \n",
    "    CoinImages = []\n",
    "    CCircles, ImageColor, ImageGray = fnFindCoins(ImageFile)\n",
    "    \n",
    "    for CC in CCircles:\n",
    "        t0 = time.time()\n",
    "        DiameterCC, xLTC, yLTC = CC   # x, y in Left top corner ( LTC ) of image\n",
    "        vcCoin  = vCurrency\n",
    "        \n",
    "        ImageGraySec = ImageGray[yLTC-3:yLTC+DiameterCC+3, xLTC-3:xLTC+DiameterCC+3]\n",
    "        Diameter, Radio, SegmentEdge, SegmentSunken = fnImageProcess(ImageColor, ImageGraySec, 'Process',ImageFile+'GraySec x'+str(xLTC) +' y'+ str(yLTC) )\n",
    "        \n",
    "        vcCoin['DiameterAcc'] = vcCoin['Diameter'].apply(fnAccuracy, args = [Diameter])\n",
    "        vcCoin['RadioAcc'] = vcCoin['Radio'].apply(fnAccuracy, args = [Radio])\n",
    "        vcCoin['SegmentEdgeAcc'] = vcCoin['SegmentEdge'].apply(fnAccuracy, args = [SegmentEdge])\n",
    "        vcCoin['SegmentSunkenAcc'] = vcCoin['SegmentSunken'].apply(fnAccuracy, args = [SegmentSunken])\n",
    "        vcCoin['AvgAccuracy'] = (vcCoin['RadioAcc'] + vcCoin['SegmentEdgeAcc'] + vcCoin['SegmentSunkenAcc'] + vcCoin['DiameterAcc' ]) / 4\n",
    "\n",
    "        vcCoin = vcCoin.set_index('Id')\n",
    "        idx = vcCoin['AvgAccuracy'].idxmax()        \n",
    "        if( int(vcCoin['AvgAccuracy'][idx]) >= Accuracy ):\n",
    "            t1 = time.time()\n",
    "            et = \"{:.3f}s\".format(t1-t0)\n",
    "            CoinImages.append([vcCoin['AvgAccuracy'][idx],Diameter, xLTC, yLTC,vcCoin['Country'][idx],vcCoin['Currency'][idx],vcCoin['CurrencyValue'][idx],et]) \n",
    "            \n",
    "    with open( OutputDir + ImageFile + ObjCoinImages, 'wb') as fileobj:\n",
    "        pickle.dump(CoinImages, fileobj )\n",
    "    \n",
    "    print('End process segmentation for coin counting ', time.strftime(\"%d/%m/%y %H:%M:%S\") )    \n",
    "\n",
    "    return CoinImages"
   ]
  },
  {
   "cell_type": "code",
   "execution_count": 3,
   "id": "c4a1ddb0",
   "metadata": {},
   "outputs": [
    {
     "name": "stdout",
     "output_type": "stream",
     "text": [
      "Begin process segmentation for coin counting  16/12/23 12:03:02\n",
      "End process segmentation for coin counting  16/12/23 12:03:27\n",
      "Images found\n",
      " [[99.62571463625054, 80, 599, 31, 'FR', 'EUR', 0.05, '0.146s'], [99.46635389425349, 90, 242, 33, 'GT', 'GTQ', 0.5, '0.198s'], [98.24572034657164, 70, 152, 34, 'GT', 'GTQ', 0.01, '0.097s'], [99.51516040622224, 74, 424, 35, 'ES', 'EUR', 0.1, '0.098s'], [97.81324801817621, 96, 778, 35, 'ES', 'EUR', 2.0, '0.150s'], [99.63863337713535, 60, 908, 35, 'ES', 'EUR', 0.01, '0.068s'], [99.3449395376555, 80, 1677, 36, 'FR', 'EUR', 0.05, '0.109s'], [99.58362484270965, 90, 1320, 38, 'GT', 'GTQ', 0.5, '0.132s'], [98.27936865735329, 70, 1230, 39, 'GT', 'GTQ', 0.01, '0.088s'], [99.88579766402943, 74, 1004, 40, 'ES', 'EUR', 0.1, '0.107s'], [99.39867387415416, 74, 1502, 40, 'ES', 'EUR', 0.1, '0.103s'], [96.87708961696924, 94, 1856, 40, 'ES', 'EUR', 2.0, '0.147s'], [99.50205556294684, 60, 1986, 40, 'ES', 'EUR', 0.01, '0.069s'], [99.79900620872112, 74, 2082, 45, 'ES', 'EUR', 0.1, '0.109s'], [98.90120376549577, 60, 338, 48, 'GT', 'GTQ', 0.05, '0.069s'], [99.1665971505996, 60, 1416, 53, 'GT', 'GTQ', 0.05, '0.071s'], [98.16548926923443, 78, 78, 72, 'GT', 'GTQ', 0.1, '0.103s'], [98.10046434006641, 78, 1156, 77, 'GT', 'GTQ', 0.1, '0.104s'], [96.84151186259407, 86, 495, 87, 'ES', 'EUR', 1.0, '0.127s'], [96.67459472061927, 86, 1573, 92, 'ES', 'EUR', 1.0, '0.131s'], [98.85855104015482, 60, 167, 110, 'GT', 'GTQ', 0.05, '0.072s'], [99.82890214945834, 102, 922, 113, 'GT', 'GTQ', 0.25, '0.164s'], [99.08879944244677, 60, 1245, 115, 'GT', 'GTQ', 0.05, '0.069s'], [99.21345697467356, 74, 640, 116, 'ES', 'EUR', 0.1, '0.096s'], [99.83962021011791, 102, 2000, 118, 'GT', 'GTQ', 0.25, '0.168s'], [95.22565049069347, 112, 351, 119, 'MX', 'MXN', 20.0, '0.192s'], [99.21651385152705, 74, 1718, 121, 'ES', 'EUR', 0.1, '0.095s'], [97.47722532033544, 78, 726, 123, 'GT', 'GTQ', 0.1, '0.106s'], [95.44948192779103, 112, 1429, 124, 'MX', 'MXN', 20.0, '0.205s'], [97.68782361284369, 78, 1804, 128, 'GT', 'GTQ', 0.1, '0.105s'], [95.86161950526065, 70, 1057, 131, 'ES', 'EUR', 0.02, '0.088s'], [99.63863337713535, 60, 2244, 131, 'ES', 'EUR', 0.01, '0.105s'], [95.03274336369591, 70, 2135, 136, 'ES', 'EUR', 0.02, '0.090s'], [99.88579766402943, 74, 2340, 136, 'ES', 'EUR', 0.1, '0.095s'], [96.99188814082395, 52, 844, 142, 'MX', 'MXN', 0.1, '0.053s'], [99.7816683430075, 70, 267, 145, 'GT', 'GTQ', 0.01, '0.087s'], [96.73747661698404, 52, 1922, 147, 'MX', 'MXN', 0.1, '0.054s'], [99.84935163996948, 70, 1345, 150, 'GT', 'GTQ', 0.01, '0.097s'], [99.53339208773991, 70, 75, 171, 'GT', 'GTQ', 0.01, '0.086s'], [99.8452569780616, 70, 1153, 176, 'GT', 'GTQ', 0.01, '0.087s'], [97.14853483504436, 60, 475, 190, 'FR', 'EUR', 0.01, '0.068s'], [99.5546342625685, 60, 601, 192, 'ES', 'EUR', 0.01, '0.068s'], [97.11590965500123, 60, 1553, 195, 'FR', 'EUR', 0.01, '0.073s'], [99.55683607730852, 60, 1679, 197, 'ES', 'EUR', 0.01, '0.069s'], [99.7604217502243, 90, 170, 204, 'ES', 'EUR', 0.5, '0.133s'], [99.91445970761025, 90, 1248, 209, 'ES', 'EUR', 0.5, '0.132s'], [99.82890214945834, 102, 2258, 209, 'GT', 'GTQ', 0.25, '0.163s'], [99.67839339521527, 60, 740, 222, 'GT', 'GTQ', 0.05, '0.069s'], [99.36855747784676, 60, 1818, 227, 'GT', 'GTQ', 0.05, '0.071s'], [95.86161950526065, 70, 2393, 227, 'ES', 'EUR', 0.02, '0.094s'], [99.2288675030172, 60, 843, 233, 'ES', 'EUR', 0.01, '0.069s'], [97.84370974988153, 92, 286, 234, 'GT', 'GTQ', 0.5, '0.134s'], [98.54188166252183, 60, 1921, 238, 'ES', 'EUR', 0.01, '0.070s'], [98.32586788723991, 96, 995, 239, 'FR', 'EUR', 2.0, '0.145s'], [97.80395529481325, 92, 1364, 239, 'GT', 'GTQ', 0.5, '0.133s'], [98.44279465983668, 96, 2073, 244, 'FR', 'EUR', 2.0, '0.144s'], [98.23583001745092, 108, 547, 265, 'GT', 'GTQ', 1.0, '0.206s'], [97.61352076520267, 78, 77, 268, 'MX', 'MXN', 1.0, '0.102s'], [95.86161950526065, 70, 430, 270, 'ES', 'EUR', 0.02, '0.087s'], [97.3680776928807, 106, 1625, 270, 'GT', 'GTQ', 1.0, '0.184s'], [96.96413683848158, 86, 667, 273, 'FR', 'EUR', 1.0, '0.122s'], [97.99721307611873, 78, 1155, 273, 'MX', 'MXN', 1.0, '0.106s'], [96.52295715861318, 70, 1508, 275, 'ES', 'EUR', 0.02, '0.088s'], [96.9516780807524, 86, 1745, 278, 'FR', 'EUR', 1.0, '0.125s'], [99.09759623693836, 80, 779, 287, 'FR', 'EUR', 0.05, '0.110s'], [99.12599547798932, 80, 1857, 292, 'FR', 'EUR', 0.05, '0.106s'], [98.00756598444964, 58, 220, 300, 'MX', 'MXN', 0.05, '0.064s'], [98.0296174103427, 58, 1298, 305, 'MX', 'MXN', 0.05, '0.064s'], [97.4257965953732, 60, 898, 313, 'FR', 'EUR', 0.01, '0.068s'], [98.14826419350796, 60, 1976, 318, 'FR', 'EUR', 0.01, '0.069s'], [99.42670986321095, 60, 2179, 329, 'ES', 'EUR', 0.01, '0.070s'], [98.32586788723991, 96, 2331, 335, 'FR', 'EUR', 2.0, '0.142s'], [98.97971709643251, 90, 286, 349, 'FR', 'EUR', 0.5, '0.134s'], [98.12990622804605, 102, 458, 352, 'GT', 'GTQ', 0.25, '0.160s'], [98.45253699788583, 90, 1364, 354, 'FR', 'EUR', 0.5, '0.130s'], [97.71728905016003, 102, 1536, 357, 'GT', 'GTQ', 0.25, '0.158s'], [98.91507955597343, 96, 970, 358, 'MX', 'MXN', 5.0, '0.146s'], [96.52889349297946, 80, 174, 360, 'GT', 'GTQ', 0.1, '0.107s'], [98.5538455210515, 96, 2048, 363, 'MX', 'MXN', 5.0, '0.146s'], [96.12745253532624, 80, 1252, 365, 'GT', 'GTQ', 0.1, '0.107s'], [99.50152163575844, 60, 716, 375, 'ES', 'EUR', 0.01, '0.069s'], [97.6336266583285, 74, 821, 380, 'FR', 'EUR', 0.1, '0.094s'], [99.48796759590184, 60, 1794, 380, 'ES', 'EUR', 0.01, '0.069s'], [97.54848791249196, 58, 615, 384, 'MX', 'MXN', 0.05, '0.064s'], [97.92759190601689, 74, 1899, 385, 'FR', 'EUR', 0.1, '0.094s'], [97.49534895197915, 58, 1693, 389, 'MX', 'MXN', 0.05, '0.064s'], [97.4257965953732, 60, 2234, 409, 'FR', 'EUR', 0.01, '0.069s'], [98.91507955597343, 96, 2306, 454, 'MX', 'MXN', 5.0, '0.144s']]\n"
     ]
    }
   ],
   "source": [
    "CoinImages = RCCprocess(DataFile='DataCurrency.csv', ImageFile='CoinsALL-dp2', ObjCoinImages = '_obj.pickle' )\n",
    "\n",
    "print('Images found\\n',CoinImages)"
   ]
  },
  {
   "cell_type": "code",
   "execution_count": null,
   "id": "ff6632c6",
   "metadata": {},
   "outputs": [],
   "source": []
  }
 ],
 "metadata": {
  "kernelspec": {
   "display_name": "Python 3 (ipykernel)",
   "language": "python",
   "name": "python3"
  },
  "language_info": {
   "codemirror_mode": {
    "name": "ipython",
    "version": 3
   },
   "file_extension": ".py",
   "mimetype": "text/x-python",
   "name": "python",
   "nbconvert_exporter": "python",
   "pygments_lexer": "ipython3",
   "version": "3.9.13"
  }
 },
 "nbformat": 4,
 "nbformat_minor": 5
}
