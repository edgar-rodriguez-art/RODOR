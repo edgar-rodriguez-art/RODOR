{
 "cells": [
  {
   "cell_type": "code",
   "execution_count": 1,
   "id": "552807cf",
   "metadata": {},
   "outputs": [],
   "source": [
    "# RODOR algorithm for coin counting, trainer\n",
    "# Based on paper RODOR algorithm for the identification of irregular surfaces with circular \n",
    "# contours applied to the recognition and counting of coins\n",
    "# Paper and code by Msc Evelyn Orellana and Msc Edgar Rodriguez. 2023\n",
    "# Paper on https://www.revistatoolbar.com/\n",
    "# Email :    eorellana@revistatoolbar.com,     erodriguez@revistatoolbar.com\n",
    "#\n",
    "# This project is licensed under the terms of the MIT License\n",
    "\n",
    "from RCC_Modules import *"
   ]
  },
  {
   "cell_type": "code",
   "execution_count": 2,
   "id": "05fb7bd3",
   "metadata": {},
   "outputs": [],
   "source": [
    "def RCCtrainer( InputData, OutputData):\n",
    "    print('Begin segmentation training for coin counting ', time.strftime(\"%d/%m/%y %H:%M:%S\") )\n",
    "    Id = 0 # Currency Id\n",
    "    with open(InputDir + InputData, 'r', newline='') as FileInp:\n",
    "        with open(OutputDir + OutputData, 'w', newline='') as FileOut:\n",
    "            read_csv = csv.DictReader(FileInp)\n",
    "            write_csv = csv.DictWriter(FileOut,fieldnames=['Country','Currency','CurrencyValue','ImgFile','Id','Diameter','Radio','SegmentEdge','SegmentSunken'])\n",
    "            write_csv.writeheader()\n",
    "\n",
    "            for row in read_csv:\n",
    "                ImageColor, ImageGray = fnReadImage( InputDir + 'TrainImg/', row['ImgFile'] )\n",
    "                Id += 1\n",
    "                \n",
    "                Diameter, Radio, hdSegmentEdge, hdSegmentSunken = fnImageProcess(ImageColor, ImageGray, 'Trainer', row['ImgFile'])\n",
    "                row['Id'] = Id\n",
    "                row['Diameter'] = Diameter\n",
    "                row['Radio'] = Radio\n",
    "                row['SegmentEdge'] = hdSegmentEdge\n",
    "                row['SegmentSunken'] = hdSegmentSunken\n",
    "                                \n",
    "                # Data save to file CSV\n",
    "                write_csv.writerow(row)\n",
    "                print('  Image file...',row['ImgFile'])    \n",
    "                \n",
    "    print('End segmentation training for coin counting ', time.strftime(\"%d/%m/%y %H:%M:%S\") )"
   ]
  },
  {
   "cell_type": "code",
   "execution_count": 3,
   "id": "4a8a4e06",
   "metadata": {},
   "outputs": [
    {
     "name": "stdout",
     "output_type": "stream",
     "text": [
      "Begin segmentation training for coin counting  16/12/23 12:00:27\n",
      "  Image file... GT-onec\n",
      "  Image file... GT-fivec\n",
      "  Image file... GT-tenc\n",
      "  Image file... GT-twentyfivec\n",
      "  Image file... GT-fiftyc\n",
      "  Image file... GT-onehundredc\n",
      "  Image file... MX-fivec\n",
      "  Image file... MX-tenc\n",
      "  Image file... MX-twentyc\n",
      "  Image file... MX-fiftyc\n",
      "  Image file... MX-onehundredc\n",
      "  Image file... MX-twohundredc\n",
      "  Image file... MX-fivehundredc\n",
      "  Image file... MX-tenhundredc\n",
      "  Image file... MX-twentyhundredc\n",
      "  Image file... ES-onec\n",
      "  Image file... ES-twoc\n",
      "  Image file... ES-fivec\n",
      "  Image file... ES-tenc\n",
      "  Image file... ES-fiftyc\n",
      "  Image file... ES-onehundredc\n",
      "  Image file... ES-twohundredc\n",
      "  Image file... FR-onec\n",
      "  Image file... FR-twoc\n",
      "  Image file... FR-fivec\n",
      "  Image file... FR-tenc\n",
      "  Image file... FR-fiftyc\n",
      "  Image file... FR-onehundredc\n",
      "  Image file... FR-twohundredc\n",
      "End segmentation training for coin counting  16/12/23 12:00:32\n"
     ]
    }
   ],
   "source": [
    "RCCtrainer( InputData='Currency.csv', OutputData='DataCurrency.csv')"
   ]
  },
  {
   "cell_type": "code",
   "execution_count": null,
   "id": "1ecc9745",
   "metadata": {},
   "outputs": [],
   "source": []
  }
 ],
 "metadata": {
  "kernelspec": {
   "display_name": "Python 3 (ipykernel)",
   "language": "python",
   "name": "python3"
  },
  "language_info": {
   "codemirror_mode": {
    "name": "ipython",
    "version": 3
   },
   "file_extension": ".py",
   "mimetype": "text/x-python",
   "name": "python",
   "nbconvert_exporter": "python",
   "pygments_lexer": "ipython3",
   "version": "3.9.13"
  }
 },
 "nbformat": 4,
 "nbformat_minor": 5
}
